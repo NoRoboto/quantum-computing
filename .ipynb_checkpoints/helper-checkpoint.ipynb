{
 "cells": [
  {
   "cell_type": "code",
   "execution_count": 1,
   "id": "0d9c8fde",
   "metadata": {},
   "outputs": [],
   "source": [
    "from qiskit import *"
   ]
  },
  {
   "cell_type": "code",
   "execution_count": 13,
   "id": "caa19fe3",
   "metadata": {},
   "outputs": [
    {
     "name": "stderr",
     "output_type": "stream",
     "text": [
      "configrc.store_credentials:WARNING:2021-10-15 18:16:57,920: Credentials already present. Set overwrite=True to overwrite.\n"
     ]
    }
   ],
   "source": [
    "IBMQ.save_account(open(\"files/ibm.API\", \"r\").read()) # create a file and just copy & paste your IBM key"
   ]
  },
  {
   "cell_type": "code",
   "execution_count": 4,
   "id": "6f86f9fe",
   "metadata": {},
   "outputs": [
    {
     "data": {
      "text/plain": [
       "<AccountProvider for IBMQ(hub='ibm-q', group='open', project='main')>"
      ]
     },
     "execution_count": 4,
     "metadata": {},
     "output_type": "execute_result"
    }
   ],
   "source": [
    "IBMQ.load_account()"
   ]
  },
  {
   "cell_type": "code",
   "execution_count": 5,
   "id": "cbb1ef43",
   "metadata": {},
   "outputs": [
    {
     "data": {
      "text/plain": [
       "[AerSimulator('aer_simulator'),\n",
       " AerSimulator('aer_simulator_statevector'),\n",
       " AerSimulator('aer_simulator_density_matrix'),\n",
       " AerSimulator('aer_simulator_stabilizer'),\n",
       " AerSimulator('aer_simulator_matrix_product_state'),\n",
       " AerSimulator('aer_simulator_extended_stabilizer'),\n",
       " AerSimulator('aer_simulator_unitary'),\n",
       " AerSimulator('aer_simulator_superop'),\n",
       " QasmSimulator('qasm_simulator'),\n",
       " StatevectorSimulator('statevector_simulator'),\n",
       " UnitarySimulator('unitary_simulator'),\n",
       " PulseSimulator('pulse_simulator')]"
      ]
     },
     "execution_count": 5,
     "metadata": {},
     "output_type": "execute_result"
    }
   ],
   "source": [
    "Aer.backends()"
   ]
  },
  {
   "cell_type": "code",
   "execution_count": 6,
   "id": "5b8f31fa",
   "metadata": {},
   "outputs": [],
   "source": [
    "provider = IBMQ.get_provider('ibm-q')"
   ]
  },
  {
   "cell_type": "code",
   "execution_count": 7,
   "id": "330bc4c1",
   "metadata": {},
   "outputs": [
    {
     "data": {
      "text/plain": [
       "[<IBMQSimulator('ibmq_qasm_simulator') from IBMQ(hub='ibm-q', group='open', project='main')>,\n",
       " <IBMQBackend('ibmq_armonk') from IBMQ(hub='ibm-q', group='open', project='main')>,\n",
       " <IBMQBackend('ibmq_santiago') from IBMQ(hub='ibm-q', group='open', project='main')>,\n",
       " <IBMQBackend('ibmq_bogota') from IBMQ(hub='ibm-q', group='open', project='main')>,\n",
       " <IBMQBackend('ibmq_lima') from IBMQ(hub='ibm-q', group='open', project='main')>,\n",
       " <IBMQBackend('ibmq_belem') from IBMQ(hub='ibm-q', group='open', project='main')>,\n",
       " <IBMQBackend('ibmq_quito') from IBMQ(hub='ibm-q', group='open', project='main')>,\n",
       " <IBMQSimulator('simulator_statevector') from IBMQ(hub='ibm-q', group='open', project='main')>,\n",
       " <IBMQSimulator('simulator_mps') from IBMQ(hub='ibm-q', group='open', project='main')>,\n",
       " <IBMQSimulator('simulator_extended_stabilizer') from IBMQ(hub='ibm-q', group='open', project='main')>,\n",
       " <IBMQSimulator('simulator_stabilizer') from IBMQ(hub='ibm-q', group='open', project='main')>,\n",
       " <IBMQBackend('ibmq_manila') from IBMQ(hub='ibm-q', group='open', project='main')>]"
      ]
     },
     "execution_count": 7,
     "metadata": {},
     "output_type": "execute_result"
    }
   ],
   "source": [
    "provider.backends()"
   ]
  },
  {
   "cell_type": "code",
   "execution_count": 12,
   "id": "3b1c1e69",
   "metadata": {},
   "outputs": [
    {
     "name": "stdout",
     "output_type": "stream",
     "text": [
      "ibmq_qasm_simulator : 0 & simulated qubits\n",
      "ibmq_armonk : 6 & 1 qubits\n",
      "ibmq_santiago : 78 & 5 qubits\n",
      "ibmq_bogota : 1 & 5 qubits\n",
      "ibmq_lima : 21 & 5 qubits\n",
      "ibmq_belem : 4 & 5 qubits\n",
      "ibmq_quito : 20 & 5 qubits\n",
      "simulator_statevector : 1 & simulated qubits\n",
      "simulator_mps : 1 & simulated qubits\n",
      "simulator_extended_stabilizer : 1 & simulated qubits\n",
      "simulator_stabilizer : 0 & simulated qubits\n",
      "ibmq_manila : 326 & 5 qubits\n"
     ]
    }
   ],
   "source": [
    "for backend in provider.backends():\n",
    "    try:\n",
    "        qubit_count = len(backend.properties().qubits)\n",
    "    except:\n",
    "        qubit_count = \"simulated\"\n",
    "    \n",
    "    print(f\"{backend.name()} : {backend.status().pending_jobs} & {qubit_count} qubits\")"
   ]
  },
  {
   "cell_type": "code",
   "execution_count": null,
   "id": "c530e90a",
   "metadata": {},
   "outputs": [],
   "source": []
  }
 ],
 "metadata": {
  "kernelspec": {
   "display_name": "Python 3 (ipykernel)",
   "language": "python",
   "name": "python3"
  },
  "language_info": {
   "codemirror_mode": {
    "name": "ipython",
    "version": 3
   },
   "file_extension": ".py",
   "mimetype": "text/x-python",
   "name": "python",
   "nbconvert_exporter": "python",
   "pygments_lexer": "ipython3",
   "version": "3.9.7"
  }
 },
 "nbformat": 4,
 "nbformat_minor": 5
}
